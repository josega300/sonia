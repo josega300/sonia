{
  "nbformat": 4,
  "nbformat_minor": 0,
  "metadata": {
    "kernelspec": {
      "display_name": "Python 3",
      "language": "python",
      "name": "python3"
    },
    "language_info": {
      "codemirror_mode": {
        "name": "ipython",
        "version": 3
      },
      "file_extension": ".py",
      "mimetype": "text/x-python",
      "name": "python",
      "nbconvert_exporter": "python",
      "pygments_lexer": "ipython3",
      "version": "3.5.5"
    },
    "colab": {
      "name": "quiz_3Linear_Regression_Python.ipynb",
      "provenance": [],
      "collapsed_sections": [],
      "include_colab_link": true
    }
  },
  "cells": [
    {
      "cell_type": "markdown",
      "metadata": {
        "id": "view-in-github",
        "colab_type": "text"
      },
      "source": [
        "<a href=\"https://colab.research.google.com/github/josega300/sonia/blob/master/final_josega.ipynb\" target=\"_parent\"><img src=\"https://colab.research.google.com/assets/colab-badge.svg\" alt=\"Open In Colab\"/></a>"
      ]
    },
    {
      "cell_type": "markdown",
      "metadata": {
        "id": "ZMG9xv6gxXaq",
        "colab_type": "text"
      },
      "source": [
        "# Machine Learning -  Linear Regression in Python\n",
        "<a id=\"top\"></a>\n",
        "\n",
        "Notes on implementing Linear Regression in python.\n",
        "\n",
        "### 1. [Data Analysis](#0)\n",
        "\n",
        "### 2. [Simple Linear Regression](#0)\n",
        "* [`Gradient Descent` Python Implementation](#1)\n",
        "* [`Scipy` Implementation](#2)\n",
        "* [`Scikit-Learn` Implementation](#3)\n",
        "* [`Statsmodel` Implementation](#4)\n",
        "* [Multi-step visual of Gradient Descent](#5)\n",
        "* [Animating the Gradient Descent](#6)  \n",
        "\n"
      ]
    },
    {
      "cell_type": "markdown",
      "metadata": {
        "id": "lj7UE4SLxXar",
        "colab_type": "text"
      },
      "source": [
        "Importing needed libraries"
      ]
    },
    {
      "cell_type": "code",
      "metadata": {
        "id": "yeZJpnqpxXas",
        "colab_type": "code",
        "colab": {
          "base_uri": "https://localhost:8080/",
          "height": 136
        },
        "outputId": "5b3cab95-24d7-4f0c-f515-0fb4089d5831"
      },
      "source": [
        "import numpy as np\n",
        "import pandas as pd\n",
        "import matplotlib.pyplot as plt\n",
        "import seaborn as sns\n",
        "%matplotlib inline\n",
        "!git clone https://github.com/tatwan/Linear-Regression-Implementation-in-Python.git"
      ],
      "execution_count": 1,
      "outputs": [
        {
          "output_type": "stream",
          "text": [
            "/usr/local/lib/python3.6/dist-packages/statsmodels/tools/_testing.py:19: FutureWarning: pandas.util.testing is deprecated. Use the functions in the public API at pandas.testing instead.\n",
            "  import pandas.util.testing as tm\n"
          ],
          "name": "stderr"
        },
        {
          "output_type": "stream",
          "text": [
            "Cloning into 'Linear-Regression-Implementation-in-Python'...\n",
            "remote: Enumerating objects: 70, done.\u001b[K\n",
            "remote: Total 70 (delta 0), reused 0 (delta 0), pack-reused 70\u001b[K\n",
            "Unpacking objects: 100% (70/70), done.\n"
          ],
          "name": "stdout"
        }
      ]
    },
    {
      "cell_type": "markdown",
      "metadata": {
        "id": "4APGwsELxXaw",
        "colab_type": "text"
      },
      "source": [
        "## Loading our housing dataset \n",
        "We will load our data on house sales in King County to predict house prices using simple (one input) linear regression"
      ]
    },
    {
      "cell_type": "code",
      "metadata": {
        "scrolled": false,
        "id": "btacJSssxXaw",
        "colab_type": "code",
        "colab": {}
      },
      "source": [
        "dataset = pd.read_csv('/content/Linear-Regression-Implementation-in-Python/datasets/kc_house_data.csv')"
      ],
      "execution_count": null,
      "outputs": []
    },
    {
      "cell_type": "markdown",
      "metadata": {
        "id": "T_EmtClxxXaz",
        "colab_type": "text"
      },
      "source": [
        "__We want to be able to predict `Y` which is our price variable.__ "
      ]
    },
    {
      "cell_type": "code",
      "metadata": {
        "id": "6MJ9FFVixXa0",
        "colab_type": "code",
        "colab": {}
      },
      "source": [
        "Y = dataset[['price']]"
      ],
      "execution_count": null,
      "outputs": []
    },
    {
      "cell_type": "code",
      "metadata": {
        "id": "bm-OrvrvxXa6",
        "colab_type": "code",
        "colab": {}
      },
      "source": [
        "X = dataset.drop(['price', 'id', 'date'],  axis=1)"
      ],
      "execution_count": null,
      "outputs": []
    },
    {
      "cell_type": "markdown",
      "metadata": {
        "id": "hJBYOqrsxXa9",
        "colab_type": "text"
      },
      "source": [
        "<a id = '0'></a>\n",
        "# 1. Data Analysis\n",
        "[Top](#top)\n",
        "\n",
        "## Basic data discovery and analysis with `info`, `describe` and `head`\n",
        "\n",
        "using pandas `.info()` we see we have 18 columns and 21613 records. Pretty much all the features given are already in numeric format."
      ]
    },
    {
      "cell_type": "code",
      "metadata": {
        "id": "Q2GJKk1gxXa9",
        "colab_type": "code",
        "colab": {
          "base_uri": "https://localhost:8080/",
          "height": 442
        },
        "outputId": "c6de7cff-dd08-4284-d770-8527265047b3"
      },
      "source": [
        "X.info()"
      ],
      "execution_count": null,
      "outputs": [
        {
          "output_type": "stream",
          "text": [
            "<class 'pandas.core.frame.DataFrame'>\n",
            "RangeIndex: 21613 entries, 0 to 21612\n",
            "Data columns (total 18 columns):\n",
            " #   Column         Non-Null Count  Dtype  \n",
            "---  ------         --------------  -----  \n",
            " 0   bedrooms       21613 non-null  int64  \n",
            " 1   bathrooms      21613 non-null  float64\n",
            " 2   sqft_living    21613 non-null  int64  \n",
            " 3   sqft_lot       21613 non-null  int64  \n",
            " 4   floors         21613 non-null  float64\n",
            " 5   waterfront     21613 non-null  int64  \n",
            " 6   view           21613 non-null  int64  \n",
            " 7   condition      21613 non-null  int64  \n",
            " 8   grade          21613 non-null  int64  \n",
            " 9   sqft_above     21613 non-null  int64  \n",
            " 10  sqft_basement  21613 non-null  int64  \n",
            " 11  yr_built       21613 non-null  int64  \n",
            " 12  yr_renovated   21613 non-null  int64  \n",
            " 13  zipcode        21613 non-null  int64  \n",
            " 14  lat            21613 non-null  float64\n",
            " 15  long           21613 non-null  float64\n",
            " 16  sqft_living15  21613 non-null  int64  \n",
            " 17  sqft_lot15     21613 non-null  int64  \n",
            "dtypes: float64(4), int64(14)\n",
            "memory usage: 3.0 MB\n"
          ],
          "name": "stdout"
        }
      ]
    },
    {
      "cell_type": "code",
      "metadata": {
        "id": "PH49wrHixXbB",
        "colab_type": "code",
        "colab": {
          "base_uri": "https://localhost:8080/",
          "height": 102
        },
        "outputId": "a8d29137-3575-4901-c6f0-37fd888b55b6"
      },
      "source": [
        "#list our columns \n",
        "columns = X.columns\n",
        "columns"
      ],
      "execution_count": null,
      "outputs": [
        {
          "output_type": "execute_result",
          "data": {
            "text/plain": [
              "Index(['bedrooms', 'bathrooms', 'sqft_living', 'sqft_lot', 'floors',\n",
              "       'waterfront', 'view', 'condition', 'grade', 'sqft_above',\n",
              "       'sqft_basement', 'yr_built', 'yr_renovated', 'zipcode', 'lat', 'long',\n",
              "       'sqft_living15', 'sqft_lot15'],\n",
              "      dtype='object')"
            ]
          },
          "metadata": {
            "tags": []
          },
          "execution_count": 9
        }
      ]
    },
    {
      "cell_type": "code",
      "metadata": {
        "scrolled": false,
        "id": "zXtYm-1DxXbG",
        "colab_type": "code",
        "colab": {
          "base_uri": "https://localhost:8080/",
          "height": 224
        },
        "outputId": "58a39183-7c33-4e32-d994-598360b2afa6"
      },
      "source": [
        "#show first 5 records\n",
        "X.head()\n"
      ],
      "execution_count": null,
      "outputs": [
        {
          "output_type": "execute_result",
          "data": {
            "text/html": [
              "<div>\n",
              "<style scoped>\n",
              "    .dataframe tbody tr th:only-of-type {\n",
              "        vertical-align: middle;\n",
              "    }\n",
              "\n",
              "    .dataframe tbody tr th {\n",
              "        vertical-align: top;\n",
              "    }\n",
              "\n",
              "    .dataframe thead th {\n",
              "        text-align: right;\n",
              "    }\n",
              "</style>\n",
              "<table border=\"1\" class=\"dataframe\">\n",
              "  <thead>\n",
              "    <tr style=\"text-align: right;\">\n",
              "      <th></th>\n",
              "      <th>bedrooms</th>\n",
              "      <th>bathrooms</th>\n",
              "      <th>sqft_living</th>\n",
              "      <th>sqft_lot</th>\n",
              "      <th>floors</th>\n",
              "      <th>waterfront</th>\n",
              "      <th>view</th>\n",
              "      <th>condition</th>\n",
              "      <th>grade</th>\n",
              "      <th>sqft_above</th>\n",
              "      <th>sqft_basement</th>\n",
              "      <th>yr_built</th>\n",
              "      <th>yr_renovated</th>\n",
              "      <th>zipcode</th>\n",
              "      <th>lat</th>\n",
              "      <th>long</th>\n",
              "      <th>sqft_living15</th>\n",
              "      <th>sqft_lot15</th>\n",
              "    </tr>\n",
              "  </thead>\n",
              "  <tbody>\n",
              "    <tr>\n",
              "      <th>0</th>\n",
              "      <td>3</td>\n",
              "      <td>1.00</td>\n",
              "      <td>1180</td>\n",
              "      <td>5650</td>\n",
              "      <td>1.0</td>\n",
              "      <td>0</td>\n",
              "      <td>0</td>\n",
              "      <td>3</td>\n",
              "      <td>7</td>\n",
              "      <td>1180</td>\n",
              "      <td>0</td>\n",
              "      <td>1955</td>\n",
              "      <td>0</td>\n",
              "      <td>98178</td>\n",
              "      <td>47.5112</td>\n",
              "      <td>-122.257</td>\n",
              "      <td>1340</td>\n",
              "      <td>5650</td>\n",
              "    </tr>\n",
              "    <tr>\n",
              "      <th>1</th>\n",
              "      <td>3</td>\n",
              "      <td>2.25</td>\n",
              "      <td>2570</td>\n",
              "      <td>7242</td>\n",
              "      <td>2.0</td>\n",
              "      <td>0</td>\n",
              "      <td>0</td>\n",
              "      <td>3</td>\n",
              "      <td>7</td>\n",
              "      <td>2170</td>\n",
              "      <td>400</td>\n",
              "      <td>1951</td>\n",
              "      <td>1991</td>\n",
              "      <td>98125</td>\n",
              "      <td>47.7210</td>\n",
              "      <td>-122.319</td>\n",
              "      <td>1690</td>\n",
              "      <td>7639</td>\n",
              "    </tr>\n",
              "    <tr>\n",
              "      <th>2</th>\n",
              "      <td>2</td>\n",
              "      <td>1.00</td>\n",
              "      <td>770</td>\n",
              "      <td>10000</td>\n",
              "      <td>1.0</td>\n",
              "      <td>0</td>\n",
              "      <td>0</td>\n",
              "      <td>3</td>\n",
              "      <td>6</td>\n",
              "      <td>770</td>\n",
              "      <td>0</td>\n",
              "      <td>1933</td>\n",
              "      <td>0</td>\n",
              "      <td>98028</td>\n",
              "      <td>47.7379</td>\n",
              "      <td>-122.233</td>\n",
              "      <td>2720</td>\n",
              "      <td>8062</td>\n",
              "    </tr>\n",
              "    <tr>\n",
              "      <th>3</th>\n",
              "      <td>4</td>\n",
              "      <td>3.00</td>\n",
              "      <td>1960</td>\n",
              "      <td>5000</td>\n",
              "      <td>1.0</td>\n",
              "      <td>0</td>\n",
              "      <td>0</td>\n",
              "      <td>5</td>\n",
              "      <td>7</td>\n",
              "      <td>1050</td>\n",
              "      <td>910</td>\n",
              "      <td>1965</td>\n",
              "      <td>0</td>\n",
              "      <td>98136</td>\n",
              "      <td>47.5208</td>\n",
              "      <td>-122.393</td>\n",
              "      <td>1360</td>\n",
              "      <td>5000</td>\n",
              "    </tr>\n",
              "    <tr>\n",
              "      <th>4</th>\n",
              "      <td>3</td>\n",
              "      <td>2.00</td>\n",
              "      <td>1680</td>\n",
              "      <td>8080</td>\n",
              "      <td>1.0</td>\n",
              "      <td>0</td>\n",
              "      <td>0</td>\n",
              "      <td>3</td>\n",
              "      <td>8</td>\n",
              "      <td>1680</td>\n",
              "      <td>0</td>\n",
              "      <td>1987</td>\n",
              "      <td>0</td>\n",
              "      <td>98074</td>\n",
              "      <td>47.6168</td>\n",
              "      <td>-122.045</td>\n",
              "      <td>1800</td>\n",
              "      <td>7503</td>\n",
              "    </tr>\n",
              "  </tbody>\n",
              "</table>\n",
              "</div>"
            ],
            "text/plain": [
              "   bedrooms  bathrooms  sqft_living  ...     long  sqft_living15  sqft_lot15\n",
              "0         3       1.00         1180  ... -122.257           1340        5650\n",
              "1         3       2.25         2570  ... -122.319           1690        7639\n",
              "2         2       1.00          770  ... -122.233           2720        8062\n",
              "3         4       3.00         1960  ... -122.393           1360        5000\n",
              "4         3       2.00         1680  ... -122.045           1800        7503\n",
              "\n",
              "[5 rows x 18 columns]"
            ]
          },
          "metadata": {
            "tags": []
          },
          "execution_count": 14
        }
      ]
    },
    {
      "cell_type": "markdown",
      "metadata": {
        "id": "SZCYVzbdxXbJ",
        "colab_type": "text"
      },
      "source": [
        "__Generates descriptive statistics that summarize the central tendency, dispersion and shape of a dataset's distribution, excluding `NaN` values__"
      ]
    },
    {
      "cell_type": "code",
      "metadata": {
        "scrolled": true,
        "id": "UoC50vwWxXbJ",
        "colab_type": "code",
        "colab": {
          "base_uri": "https://localhost:8080/",
          "height": 317
        },
        "outputId": "585c0eea-9796-4409-9e48-de7b347fb862"
      },
      "source": [
        "X.describe()"
      ],
      "execution_count": null,
      "outputs": [
        {
          "output_type": "execute_result",
          "data": {
            "text/html": [
              "<div>\n",
              "<style scoped>\n",
              "    .dataframe tbody tr th:only-of-type {\n",
              "        vertical-align: middle;\n",
              "    }\n",
              "\n",
              "    .dataframe tbody tr th {\n",
              "        vertical-align: top;\n",
              "    }\n",
              "\n",
              "    .dataframe thead th {\n",
              "        text-align: right;\n",
              "    }\n",
              "</style>\n",
              "<table border=\"1\" class=\"dataframe\">\n",
              "  <thead>\n",
              "    <tr style=\"text-align: right;\">\n",
              "      <th></th>\n",
              "      <th>bedrooms</th>\n",
              "      <th>bathrooms</th>\n",
              "      <th>sqft_living</th>\n",
              "      <th>sqft_lot</th>\n",
              "      <th>floors</th>\n",
              "      <th>waterfront</th>\n",
              "      <th>view</th>\n",
              "      <th>condition</th>\n",
              "      <th>grade</th>\n",
              "      <th>sqft_above</th>\n",
              "      <th>sqft_basement</th>\n",
              "      <th>yr_built</th>\n",
              "      <th>yr_renovated</th>\n",
              "      <th>zipcode</th>\n",
              "      <th>lat</th>\n",
              "      <th>long</th>\n",
              "      <th>sqft_living15</th>\n",
              "      <th>sqft_lot15</th>\n",
              "    </tr>\n",
              "  </thead>\n",
              "  <tbody>\n",
              "    <tr>\n",
              "      <th>count</th>\n",
              "      <td>21613.000000</td>\n",
              "      <td>21613.000000</td>\n",
              "      <td>21613.000000</td>\n",
              "      <td>2.161300e+04</td>\n",
              "      <td>21613.000000</td>\n",
              "      <td>21613.000000</td>\n",
              "      <td>21613.000000</td>\n",
              "      <td>21613.000000</td>\n",
              "      <td>21613.000000</td>\n",
              "      <td>21613.000000</td>\n",
              "      <td>21613.000000</td>\n",
              "      <td>21613.000000</td>\n",
              "      <td>21613.000000</td>\n",
              "      <td>21613.000000</td>\n",
              "      <td>21613.000000</td>\n",
              "      <td>21613.000000</td>\n",
              "      <td>21613.000000</td>\n",
              "      <td>21613.000000</td>\n",
              "    </tr>\n",
              "    <tr>\n",
              "      <th>mean</th>\n",
              "      <td>3.370842</td>\n",
              "      <td>2.114757</td>\n",
              "      <td>2079.899736</td>\n",
              "      <td>1.510697e+04</td>\n",
              "      <td>1.494309</td>\n",
              "      <td>0.007542</td>\n",
              "      <td>0.234303</td>\n",
              "      <td>3.409430</td>\n",
              "      <td>7.656873</td>\n",
              "      <td>1788.390691</td>\n",
              "      <td>291.509045</td>\n",
              "      <td>1971.005136</td>\n",
              "      <td>84.402258</td>\n",
              "      <td>98077.939805</td>\n",
              "      <td>47.560053</td>\n",
              "      <td>-122.213896</td>\n",
              "      <td>1986.552492</td>\n",
              "      <td>12768.455652</td>\n",
              "    </tr>\n",
              "    <tr>\n",
              "      <th>std</th>\n",
              "      <td>0.930062</td>\n",
              "      <td>0.770163</td>\n",
              "      <td>918.440897</td>\n",
              "      <td>4.142051e+04</td>\n",
              "      <td>0.539989</td>\n",
              "      <td>0.086517</td>\n",
              "      <td>0.766318</td>\n",
              "      <td>0.650743</td>\n",
              "      <td>1.175459</td>\n",
              "      <td>828.090978</td>\n",
              "      <td>442.575043</td>\n",
              "      <td>29.373411</td>\n",
              "      <td>401.679240</td>\n",
              "      <td>53.505026</td>\n",
              "      <td>0.138564</td>\n",
              "      <td>0.140828</td>\n",
              "      <td>685.391304</td>\n",
              "      <td>27304.179631</td>\n",
              "    </tr>\n",
              "    <tr>\n",
              "      <th>min</th>\n",
              "      <td>0.000000</td>\n",
              "      <td>0.000000</td>\n",
              "      <td>290.000000</td>\n",
              "      <td>5.200000e+02</td>\n",
              "      <td>1.000000</td>\n",
              "      <td>0.000000</td>\n",
              "      <td>0.000000</td>\n",
              "      <td>1.000000</td>\n",
              "      <td>1.000000</td>\n",
              "      <td>290.000000</td>\n",
              "      <td>0.000000</td>\n",
              "      <td>1900.000000</td>\n",
              "      <td>0.000000</td>\n",
              "      <td>98001.000000</td>\n",
              "      <td>47.155900</td>\n",
              "      <td>-122.519000</td>\n",
              "      <td>399.000000</td>\n",
              "      <td>651.000000</td>\n",
              "    </tr>\n",
              "    <tr>\n",
              "      <th>25%</th>\n",
              "      <td>3.000000</td>\n",
              "      <td>1.750000</td>\n",
              "      <td>1427.000000</td>\n",
              "      <td>5.040000e+03</td>\n",
              "      <td>1.000000</td>\n",
              "      <td>0.000000</td>\n",
              "      <td>0.000000</td>\n",
              "      <td>3.000000</td>\n",
              "      <td>7.000000</td>\n",
              "      <td>1190.000000</td>\n",
              "      <td>0.000000</td>\n",
              "      <td>1951.000000</td>\n",
              "      <td>0.000000</td>\n",
              "      <td>98033.000000</td>\n",
              "      <td>47.471000</td>\n",
              "      <td>-122.328000</td>\n",
              "      <td>1490.000000</td>\n",
              "      <td>5100.000000</td>\n",
              "    </tr>\n",
              "    <tr>\n",
              "      <th>50%</th>\n",
              "      <td>3.000000</td>\n",
              "      <td>2.250000</td>\n",
              "      <td>1910.000000</td>\n",
              "      <td>7.618000e+03</td>\n",
              "      <td>1.500000</td>\n",
              "      <td>0.000000</td>\n",
              "      <td>0.000000</td>\n",
              "      <td>3.000000</td>\n",
              "      <td>7.000000</td>\n",
              "      <td>1560.000000</td>\n",
              "      <td>0.000000</td>\n",
              "      <td>1975.000000</td>\n",
              "      <td>0.000000</td>\n",
              "      <td>98065.000000</td>\n",
              "      <td>47.571800</td>\n",
              "      <td>-122.230000</td>\n",
              "      <td>1840.000000</td>\n",
              "      <td>7620.000000</td>\n",
              "    </tr>\n",
              "    <tr>\n",
              "      <th>75%</th>\n",
              "      <td>4.000000</td>\n",
              "      <td>2.500000</td>\n",
              "      <td>2550.000000</td>\n",
              "      <td>1.068800e+04</td>\n",
              "      <td>2.000000</td>\n",
              "      <td>0.000000</td>\n",
              "      <td>0.000000</td>\n",
              "      <td>4.000000</td>\n",
              "      <td>8.000000</td>\n",
              "      <td>2210.000000</td>\n",
              "      <td>560.000000</td>\n",
              "      <td>1997.000000</td>\n",
              "      <td>0.000000</td>\n",
              "      <td>98118.000000</td>\n",
              "      <td>47.678000</td>\n",
              "      <td>-122.125000</td>\n",
              "      <td>2360.000000</td>\n",
              "      <td>10083.000000</td>\n",
              "    </tr>\n",
              "    <tr>\n",
              "      <th>max</th>\n",
              "      <td>33.000000</td>\n",
              "      <td>8.000000</td>\n",
              "      <td>13540.000000</td>\n",
              "      <td>1.651359e+06</td>\n",
              "      <td>3.500000</td>\n",
              "      <td>1.000000</td>\n",
              "      <td>4.000000</td>\n",
              "      <td>5.000000</td>\n",
              "      <td>13.000000</td>\n",
              "      <td>9410.000000</td>\n",
              "      <td>4820.000000</td>\n",
              "      <td>2015.000000</td>\n",
              "      <td>2015.000000</td>\n",
              "      <td>98199.000000</td>\n",
              "      <td>47.777600</td>\n",
              "      <td>-121.315000</td>\n",
              "      <td>6210.000000</td>\n",
              "      <td>871200.000000</td>\n",
              "    </tr>\n",
              "  </tbody>\n",
              "</table>\n",
              "</div>"
            ],
            "text/plain": [
              "           bedrooms     bathrooms  ...  sqft_living15     sqft_lot15\n",
              "count  21613.000000  21613.000000  ...   21613.000000   21613.000000\n",
              "mean       3.370842      2.114757  ...    1986.552492   12768.455652\n",
              "std        0.930062      0.770163  ...     685.391304   27304.179631\n",
              "min        0.000000      0.000000  ...     399.000000     651.000000\n",
              "25%        3.000000      1.750000  ...    1490.000000    5100.000000\n",
              "50%        3.000000      2.250000  ...    1840.000000    7620.000000\n",
              "75%        4.000000      2.500000  ...    2360.000000   10083.000000\n",
              "max       33.000000      8.000000  ...    6210.000000  871200.000000\n",
              "\n",
              "[8 rows x 18 columns]"
            ]
          },
          "metadata": {
            "tags": []
          },
          "execution_count": 15
        }
      ]
    },
    {
      "cell_type": "markdown",
      "metadata": {
        "id": "rKWqxuIqxXbM",
        "colab_type": "text"
      },
      "source": [
        "__Compute correlation between variables and our predictor variable__"
      ]
    },
    {
      "cell_type": "code",
      "metadata": {
        "scrolled": false,
        "id": "u_hxnyE0xXbN",
        "colab_type": "code",
        "colab": {}
      },
      "source": [
        "dataset = dataset.drop(['id', 'date'], axis=1)"
      ],
      "execution_count": null,
      "outputs": []
    },
    {
      "cell_type": "code",
      "metadata": {
        "id": "U_NwYE6WxXbR",
        "colab_type": "code",
        "colab": {
          "base_uri": "https://localhost:8080/",
          "height": 658
        },
        "outputId": "b8cfdcd8-5855-451e-c6d7-092f9275cc2a"
      },
      "source": [
        "dataset.corr(method='pearson')"
      ],
      "execution_count": null,
      "outputs": [
        {
          "output_type": "execute_result",
          "data": {
            "text/html": [
              "<div>\n",
              "<style scoped>\n",
              "    .dataframe tbody tr th:only-of-type {\n",
              "        vertical-align: middle;\n",
              "    }\n",
              "\n",
              "    .dataframe tbody tr th {\n",
              "        vertical-align: top;\n",
              "    }\n",
              "\n",
              "    .dataframe thead th {\n",
              "        text-align: right;\n",
              "    }\n",
              "</style>\n",
              "<table border=\"1\" class=\"dataframe\">\n",
              "  <thead>\n",
              "    <tr style=\"text-align: right;\">\n",
              "      <th></th>\n",
              "      <th>price</th>\n",
              "      <th>bedrooms</th>\n",
              "      <th>bathrooms</th>\n",
              "      <th>sqft_living</th>\n",
              "      <th>sqft_lot</th>\n",
              "      <th>floors</th>\n",
              "      <th>waterfront</th>\n",
              "      <th>view</th>\n",
              "      <th>condition</th>\n",
              "      <th>grade</th>\n",
              "      <th>sqft_above</th>\n",
              "      <th>sqft_basement</th>\n",
              "      <th>yr_built</th>\n",
              "      <th>yr_renovated</th>\n",
              "      <th>zipcode</th>\n",
              "      <th>lat</th>\n",
              "      <th>long</th>\n",
              "      <th>sqft_living15</th>\n",
              "      <th>sqft_lot15</th>\n",
              "    </tr>\n",
              "  </thead>\n",
              "  <tbody>\n",
              "    <tr>\n",
              "      <th>price</th>\n",
              "      <td>1.000000</td>\n",
              "      <td>0.308350</td>\n",
              "      <td>0.525138</td>\n",
              "      <td>0.702035</td>\n",
              "      <td>0.089661</td>\n",
              "      <td>0.256794</td>\n",
              "      <td>0.266369</td>\n",
              "      <td>0.397293</td>\n",
              "      <td>0.036362</td>\n",
              "      <td>0.667434</td>\n",
              "      <td>0.605567</td>\n",
              "      <td>0.323816</td>\n",
              "      <td>0.054012</td>\n",
              "      <td>0.126434</td>\n",
              "      <td>-0.053203</td>\n",
              "      <td>0.307003</td>\n",
              "      <td>0.021626</td>\n",
              "      <td>0.585379</td>\n",
              "      <td>0.082447</td>\n",
              "    </tr>\n",
              "    <tr>\n",
              "      <th>bedrooms</th>\n",
              "      <td>0.308350</td>\n",
              "      <td>1.000000</td>\n",
              "      <td>0.515884</td>\n",
              "      <td>0.576671</td>\n",
              "      <td>0.031703</td>\n",
              "      <td>0.175429</td>\n",
              "      <td>-0.006582</td>\n",
              "      <td>0.079532</td>\n",
              "      <td>0.028472</td>\n",
              "      <td>0.356967</td>\n",
              "      <td>0.477600</td>\n",
              "      <td>0.303093</td>\n",
              "      <td>0.154178</td>\n",
              "      <td>0.018841</td>\n",
              "      <td>-0.152668</td>\n",
              "      <td>-0.008931</td>\n",
              "      <td>0.129473</td>\n",
              "      <td>0.391638</td>\n",
              "      <td>0.029244</td>\n",
              "    </tr>\n",
              "    <tr>\n",
              "      <th>bathrooms</th>\n",
              "      <td>0.525138</td>\n",
              "      <td>0.515884</td>\n",
              "      <td>1.000000</td>\n",
              "      <td>0.754665</td>\n",
              "      <td>0.087740</td>\n",
              "      <td>0.500653</td>\n",
              "      <td>0.063744</td>\n",
              "      <td>0.187737</td>\n",
              "      <td>-0.124982</td>\n",
              "      <td>0.664983</td>\n",
              "      <td>0.685342</td>\n",
              "      <td>0.283770</td>\n",
              "      <td>0.506019</td>\n",
              "      <td>0.050739</td>\n",
              "      <td>-0.203866</td>\n",
              "      <td>0.024573</td>\n",
              "      <td>0.223042</td>\n",
              "      <td>0.568634</td>\n",
              "      <td>0.087175</td>\n",
              "    </tr>\n",
              "    <tr>\n",
              "      <th>sqft_living</th>\n",
              "      <td>0.702035</td>\n",
              "      <td>0.576671</td>\n",
              "      <td>0.754665</td>\n",
              "      <td>1.000000</td>\n",
              "      <td>0.172826</td>\n",
              "      <td>0.353949</td>\n",
              "      <td>0.103818</td>\n",
              "      <td>0.284611</td>\n",
              "      <td>-0.058753</td>\n",
              "      <td>0.762704</td>\n",
              "      <td>0.876597</td>\n",
              "      <td>0.435043</td>\n",
              "      <td>0.318049</td>\n",
              "      <td>0.055363</td>\n",
              "      <td>-0.199430</td>\n",
              "      <td>0.052529</td>\n",
              "      <td>0.240223</td>\n",
              "      <td>0.756420</td>\n",
              "      <td>0.183286</td>\n",
              "    </tr>\n",
              "    <tr>\n",
              "      <th>sqft_lot</th>\n",
              "      <td>0.089661</td>\n",
              "      <td>0.031703</td>\n",
              "      <td>0.087740</td>\n",
              "      <td>0.172826</td>\n",
              "      <td>1.000000</td>\n",
              "      <td>-0.005201</td>\n",
              "      <td>0.021604</td>\n",
              "      <td>0.074710</td>\n",
              "      <td>-0.008958</td>\n",
              "      <td>0.113621</td>\n",
              "      <td>0.183512</td>\n",
              "      <td>0.015286</td>\n",
              "      <td>0.053080</td>\n",
              "      <td>0.007644</td>\n",
              "      <td>-0.129574</td>\n",
              "      <td>-0.085683</td>\n",
              "      <td>0.229521</td>\n",
              "      <td>0.144608</td>\n",
              "      <td>0.718557</td>\n",
              "    </tr>\n",
              "    <tr>\n",
              "      <th>floors</th>\n",
              "      <td>0.256794</td>\n",
              "      <td>0.175429</td>\n",
              "      <td>0.500653</td>\n",
              "      <td>0.353949</td>\n",
              "      <td>-0.005201</td>\n",
              "      <td>1.000000</td>\n",
              "      <td>0.023698</td>\n",
              "      <td>0.029444</td>\n",
              "      <td>-0.263768</td>\n",
              "      <td>0.458183</td>\n",
              "      <td>0.523885</td>\n",
              "      <td>-0.245705</td>\n",
              "      <td>0.489319</td>\n",
              "      <td>0.006338</td>\n",
              "      <td>-0.059121</td>\n",
              "      <td>0.049614</td>\n",
              "      <td>0.125419</td>\n",
              "      <td>0.279885</td>\n",
              "      <td>-0.011269</td>\n",
              "    </tr>\n",
              "    <tr>\n",
              "      <th>waterfront</th>\n",
              "      <td>0.266369</td>\n",
              "      <td>-0.006582</td>\n",
              "      <td>0.063744</td>\n",
              "      <td>0.103818</td>\n",
              "      <td>0.021604</td>\n",
              "      <td>0.023698</td>\n",
              "      <td>1.000000</td>\n",
              "      <td>0.401857</td>\n",
              "      <td>0.016653</td>\n",
              "      <td>0.082775</td>\n",
              "      <td>0.072075</td>\n",
              "      <td>0.080588</td>\n",
              "      <td>-0.026161</td>\n",
              "      <td>0.092885</td>\n",
              "      <td>0.030285</td>\n",
              "      <td>-0.014274</td>\n",
              "      <td>-0.041910</td>\n",
              "      <td>0.086463</td>\n",
              "      <td>0.030703</td>\n",
              "    </tr>\n",
              "    <tr>\n",
              "      <th>view</th>\n",
              "      <td>0.397293</td>\n",
              "      <td>0.079532</td>\n",
              "      <td>0.187737</td>\n",
              "      <td>0.284611</td>\n",
              "      <td>0.074710</td>\n",
              "      <td>0.029444</td>\n",
              "      <td>0.401857</td>\n",
              "      <td>1.000000</td>\n",
              "      <td>0.045990</td>\n",
              "      <td>0.251321</td>\n",
              "      <td>0.167649</td>\n",
              "      <td>0.276947</td>\n",
              "      <td>-0.053440</td>\n",
              "      <td>0.103917</td>\n",
              "      <td>0.084827</td>\n",
              "      <td>0.006157</td>\n",
              "      <td>-0.078400</td>\n",
              "      <td>0.280439</td>\n",
              "      <td>0.072575</td>\n",
              "    </tr>\n",
              "    <tr>\n",
              "      <th>condition</th>\n",
              "      <td>0.036362</td>\n",
              "      <td>0.028472</td>\n",
              "      <td>-0.124982</td>\n",
              "      <td>-0.058753</td>\n",
              "      <td>-0.008958</td>\n",
              "      <td>-0.263768</td>\n",
              "      <td>0.016653</td>\n",
              "      <td>0.045990</td>\n",
              "      <td>1.000000</td>\n",
              "      <td>-0.144674</td>\n",
              "      <td>-0.158214</td>\n",
              "      <td>0.174105</td>\n",
              "      <td>-0.361417</td>\n",
              "      <td>-0.060618</td>\n",
              "      <td>0.003026</td>\n",
              "      <td>-0.014941</td>\n",
              "      <td>-0.106500</td>\n",
              "      <td>-0.092824</td>\n",
              "      <td>-0.003406</td>\n",
              "    </tr>\n",
              "    <tr>\n",
              "      <th>grade</th>\n",
              "      <td>0.667434</td>\n",
              "      <td>0.356967</td>\n",
              "      <td>0.664983</td>\n",
              "      <td>0.762704</td>\n",
              "      <td>0.113621</td>\n",
              "      <td>0.458183</td>\n",
              "      <td>0.082775</td>\n",
              "      <td>0.251321</td>\n",
              "      <td>-0.144674</td>\n",
              "      <td>1.000000</td>\n",
              "      <td>0.755923</td>\n",
              "      <td>0.168392</td>\n",
              "      <td>0.446963</td>\n",
              "      <td>0.014414</td>\n",
              "      <td>-0.184862</td>\n",
              "      <td>0.114084</td>\n",
              "      <td>0.198372</td>\n",
              "      <td>0.713202</td>\n",
              "      <td>0.119248</td>\n",
              "    </tr>\n",
              "    <tr>\n",
              "      <th>sqft_above</th>\n",
              "      <td>0.605567</td>\n",
              "      <td>0.477600</td>\n",
              "      <td>0.685342</td>\n",
              "      <td>0.876597</td>\n",
              "      <td>0.183512</td>\n",
              "      <td>0.523885</td>\n",
              "      <td>0.072075</td>\n",
              "      <td>0.167649</td>\n",
              "      <td>-0.158214</td>\n",
              "      <td>0.755923</td>\n",
              "      <td>1.000000</td>\n",
              "      <td>-0.051943</td>\n",
              "      <td>0.423898</td>\n",
              "      <td>0.023285</td>\n",
              "      <td>-0.261190</td>\n",
              "      <td>-0.000816</td>\n",
              "      <td>0.343803</td>\n",
              "      <td>0.731870</td>\n",
              "      <td>0.194050</td>\n",
              "    </tr>\n",
              "    <tr>\n",
              "      <th>sqft_basement</th>\n",
              "      <td>0.323816</td>\n",
              "      <td>0.303093</td>\n",
              "      <td>0.283770</td>\n",
              "      <td>0.435043</td>\n",
              "      <td>0.015286</td>\n",
              "      <td>-0.245705</td>\n",
              "      <td>0.080588</td>\n",
              "      <td>0.276947</td>\n",
              "      <td>0.174105</td>\n",
              "      <td>0.168392</td>\n",
              "      <td>-0.051943</td>\n",
              "      <td>1.000000</td>\n",
              "      <td>-0.133124</td>\n",
              "      <td>0.071323</td>\n",
              "      <td>0.074845</td>\n",
              "      <td>0.110538</td>\n",
              "      <td>-0.144765</td>\n",
              "      <td>0.200355</td>\n",
              "      <td>0.017276</td>\n",
              "    </tr>\n",
              "    <tr>\n",
              "      <th>yr_built</th>\n",
              "      <td>0.054012</td>\n",
              "      <td>0.154178</td>\n",
              "      <td>0.506019</td>\n",
              "      <td>0.318049</td>\n",
              "      <td>0.053080</td>\n",
              "      <td>0.489319</td>\n",
              "      <td>-0.026161</td>\n",
              "      <td>-0.053440</td>\n",
              "      <td>-0.361417</td>\n",
              "      <td>0.446963</td>\n",
              "      <td>0.423898</td>\n",
              "      <td>-0.133124</td>\n",
              "      <td>1.000000</td>\n",
              "      <td>-0.224874</td>\n",
              "      <td>-0.346869</td>\n",
              "      <td>-0.148122</td>\n",
              "      <td>0.409356</td>\n",
              "      <td>0.326229</td>\n",
              "      <td>0.070958</td>\n",
              "    </tr>\n",
              "    <tr>\n",
              "      <th>yr_renovated</th>\n",
              "      <td>0.126434</td>\n",
              "      <td>0.018841</td>\n",
              "      <td>0.050739</td>\n",
              "      <td>0.055363</td>\n",
              "      <td>0.007644</td>\n",
              "      <td>0.006338</td>\n",
              "      <td>0.092885</td>\n",
              "      <td>0.103917</td>\n",
              "      <td>-0.060618</td>\n",
              "      <td>0.014414</td>\n",
              "      <td>0.023285</td>\n",
              "      <td>0.071323</td>\n",
              "      <td>-0.224874</td>\n",
              "      <td>1.000000</td>\n",
              "      <td>0.064357</td>\n",
              "      <td>0.029398</td>\n",
              "      <td>-0.068372</td>\n",
              "      <td>-0.002673</td>\n",
              "      <td>0.007854</td>\n",
              "    </tr>\n",
              "    <tr>\n",
              "      <th>zipcode</th>\n",
              "      <td>-0.053203</td>\n",
              "      <td>-0.152668</td>\n",
              "      <td>-0.203866</td>\n",
              "      <td>-0.199430</td>\n",
              "      <td>-0.129574</td>\n",
              "      <td>-0.059121</td>\n",
              "      <td>0.030285</td>\n",
              "      <td>0.084827</td>\n",
              "      <td>0.003026</td>\n",
              "      <td>-0.184862</td>\n",
              "      <td>-0.261190</td>\n",
              "      <td>0.074845</td>\n",
              "      <td>-0.346869</td>\n",
              "      <td>0.064357</td>\n",
              "      <td>1.000000</td>\n",
              "      <td>0.267048</td>\n",
              "      <td>-0.564072</td>\n",
              "      <td>-0.279033</td>\n",
              "      <td>-0.147221</td>\n",
              "    </tr>\n",
              "    <tr>\n",
              "      <th>lat</th>\n",
              "      <td>0.307003</td>\n",
              "      <td>-0.008931</td>\n",
              "      <td>0.024573</td>\n",
              "      <td>0.052529</td>\n",
              "      <td>-0.085683</td>\n",
              "      <td>0.049614</td>\n",
              "      <td>-0.014274</td>\n",
              "      <td>0.006157</td>\n",
              "      <td>-0.014941</td>\n",
              "      <td>0.114084</td>\n",
              "      <td>-0.000816</td>\n",
              "      <td>0.110538</td>\n",
              "      <td>-0.148122</td>\n",
              "      <td>0.029398</td>\n",
              "      <td>0.267048</td>\n",
              "      <td>1.000000</td>\n",
              "      <td>-0.135512</td>\n",
              "      <td>0.048858</td>\n",
              "      <td>-0.086419</td>\n",
              "    </tr>\n",
              "    <tr>\n",
              "      <th>long</th>\n",
              "      <td>0.021626</td>\n",
              "      <td>0.129473</td>\n",
              "      <td>0.223042</td>\n",
              "      <td>0.240223</td>\n",
              "      <td>0.229521</td>\n",
              "      <td>0.125419</td>\n",
              "      <td>-0.041910</td>\n",
              "      <td>-0.078400</td>\n",
              "      <td>-0.106500</td>\n",
              "      <td>0.198372</td>\n",
              "      <td>0.343803</td>\n",
              "      <td>-0.144765</td>\n",
              "      <td>0.409356</td>\n",
              "      <td>-0.068372</td>\n",
              "      <td>-0.564072</td>\n",
              "      <td>-0.135512</td>\n",
              "      <td>1.000000</td>\n",
              "      <td>0.334605</td>\n",
              "      <td>0.254451</td>\n",
              "    </tr>\n",
              "    <tr>\n",
              "      <th>sqft_living15</th>\n",
              "      <td>0.585379</td>\n",
              "      <td>0.391638</td>\n",
              "      <td>0.568634</td>\n",
              "      <td>0.756420</td>\n",
              "      <td>0.144608</td>\n",
              "      <td>0.279885</td>\n",
              "      <td>0.086463</td>\n",
              "      <td>0.280439</td>\n",
              "      <td>-0.092824</td>\n",
              "      <td>0.713202</td>\n",
              "      <td>0.731870</td>\n",
              "      <td>0.200355</td>\n",
              "      <td>0.326229</td>\n",
              "      <td>-0.002673</td>\n",
              "      <td>-0.279033</td>\n",
              "      <td>0.048858</td>\n",
              "      <td>0.334605</td>\n",
              "      <td>1.000000</td>\n",
              "      <td>0.183192</td>\n",
              "    </tr>\n",
              "    <tr>\n",
              "      <th>sqft_lot15</th>\n",
              "      <td>0.082447</td>\n",
              "      <td>0.029244</td>\n",
              "      <td>0.087175</td>\n",
              "      <td>0.183286</td>\n",
              "      <td>0.718557</td>\n",
              "      <td>-0.011269</td>\n",
              "      <td>0.030703</td>\n",
              "      <td>0.072575</td>\n",
              "      <td>-0.003406</td>\n",
              "      <td>0.119248</td>\n",
              "      <td>0.194050</td>\n",
              "      <td>0.017276</td>\n",
              "      <td>0.070958</td>\n",
              "      <td>0.007854</td>\n",
              "      <td>-0.147221</td>\n",
              "      <td>-0.086419</td>\n",
              "      <td>0.254451</td>\n",
              "      <td>0.183192</td>\n",
              "      <td>1.000000</td>\n",
              "    </tr>\n",
              "  </tbody>\n",
              "</table>\n",
              "</div>"
            ],
            "text/plain": [
              "                  price  bedrooms  ...  sqft_living15  sqft_lot15\n",
              "price          1.000000  0.308350  ...       0.585379    0.082447\n",
              "bedrooms       0.308350  1.000000  ...       0.391638    0.029244\n",
              "bathrooms      0.525138  0.515884  ...       0.568634    0.087175\n",
              "sqft_living    0.702035  0.576671  ...       0.756420    0.183286\n",
              "sqft_lot       0.089661  0.031703  ...       0.144608    0.718557\n",
              "floors         0.256794  0.175429  ...       0.279885   -0.011269\n",
              "waterfront     0.266369 -0.006582  ...       0.086463    0.030703\n",
              "view           0.397293  0.079532  ...       0.280439    0.072575\n",
              "condition      0.036362  0.028472  ...      -0.092824   -0.003406\n",
              "grade          0.667434  0.356967  ...       0.713202    0.119248\n",
              "sqft_above     0.605567  0.477600  ...       0.731870    0.194050\n",
              "sqft_basement  0.323816  0.303093  ...       0.200355    0.017276\n",
              "yr_built       0.054012  0.154178  ...       0.326229    0.070958\n",
              "yr_renovated   0.126434  0.018841  ...      -0.002673    0.007854\n",
              "zipcode       -0.053203 -0.152668  ...      -0.279033   -0.147221\n",
              "lat            0.307003 -0.008931  ...       0.048858   -0.086419\n",
              "long           0.021626  0.129473  ...       0.334605    0.254451\n",
              "sqft_living15  0.585379  0.391638  ...       1.000000    0.183192\n",
              "sqft_lot15     0.082447  0.029244  ...       0.183192    1.000000\n",
              "\n",
              "[19 rows x 19 columns]"
            ]
          },
          "metadata": {
            "tags": []
          },
          "execution_count": 17
        }
      ]
    },
    {
      "cell_type": "markdown",
      "metadata": {
        "id": "l12kK4JtxXbW",
        "colab_type": "text"
      },
      "source": [
        "__We can even visualize the table above__"
      ]
    },
    {
      "cell_type": "code",
      "metadata": {
        "id": "h9FBYmWTxXbX",
        "colab_type": "code",
        "colab": {
          "base_uri": "https://localhost:8080/",
          "height": 568
        },
        "outputId": "4d93effe-bc47-40a3-b353-e880f4d72bca"
      },
      "source": [
        "plt.subplots(figsize=(10,8))\n",
        "sns.heatmap(dataset.corr())"
      ],
      "execution_count": null,
      "outputs": [
        {
          "output_type": "execute_result",
          "data": {
            "text/plain": [
              "<matplotlib.axes._subplots.AxesSubplot at 0x7f9181dcf860>"
            ]
          },
          "metadata": {
            "tags": []
          },
          "execution_count": 18
        },
        {
          "output_type": "display_data",
          "data": {
            "image/png": "[encoded data removed]",
            "text/plain": [
              "<Figure size 720x576 with 2 Axes>"
            ]
          },
          "metadata": {
            "tags": [],
            "needs_background": "light"
          }
        }
      ]
    },
    {
      "cell_type": "markdown",
      "metadata": {
        "id": "sZ34x_mgxXba",
        "colab_type": "text"
      },
      "source": [
        "### `statsmodel` package can also give us some great insight and summary statistics including `p-value` \n",
        "The statsmodel can actually perform the regression modeling for us , but here I am mainly using it to help determine which variable I should focus on for my `Simple Linear Regression` (one independent variable) and get a feel of which values are statistically significant. There are techniques when dealing with `Multiple Linear Regression` (many variable) to narrow down to the most significant features/variables usiung __Step Wise Regression__ which include techniques such as __Forward Selection__ and __Backward Elimination__.  \n"
      ]
    },
    {
      "cell_type": "code",
      "metadata": {
        "id": "34njqX_bxXba",
        "colab_type": "code",
        "colab": {
          "base_uri": "https://localhost:8080/",
          "height": 835
        },
        "outputId": "a7d2f237-3440-4a93-e180-4cdb666acd5c"
      },
      "source": [
        "import statsmodels.formula.api as sml\n",
        "import statsmodels.api as sm\n",
        "from statsmodels import tools\n",
        "\n",
        "X_new = tools.add_constant(X)\n",
        "\n",
        "regressor_OLS = sm.OLS(endog = Y,exog =  X_new).fit()\n",
        "\n",
        "regressor_OLS.summary()"
      ],
      "execution_count": null,
      "outputs": [
        {
          "output_type": "execute_result",
          "data": {
            "text/html": [
              "<table class=\"simpletable\">\n",
              "<caption>OLS Regression Results</caption>\n",
              "<tr>\n",
              "  <th>Dep. Variable:</th>          <td>price</td>      <th>  R-squared:         </th>  <td>   0.700</td>  \n",
              "</tr>\n",
              "<tr>\n",
              "  <th>Model:</th>                   <td>OLS</td>       <th>  Adj. R-squared:    </th>  <td>   0.700</td>  \n",
              "</tr>\n",
              "<tr>\n",
              "  <th>Method:</th>             <td>Least Squares</td>  <th>  F-statistic:       </th>  <td>   2960.</td>  \n",
              "</tr>\n",
              "<tr>\n",
              "  <th>Date:</th>             <td>Thu, 23 Jul 2020</td> <th>  Prob (F-statistic):</th>   <td>  0.00</td>   \n",
              "</tr>\n",
              "<tr>\n",
              "  <th>Time:</th>                 <td>22:27:27</td>     <th>  Log-Likelihood:    </th> <td>-2.9460e+05</td>\n",
              "</tr>\n",
              "<tr>\n",
              "  <th>No. Observations:</th>      <td> 21613</td>      <th>  AIC:               </th>  <td>5.892e+05</td> \n",
              "</tr>\n",
              "<tr>\n",
              "  <th>Df Residuals:</th>          <td> 21595</td>      <th>  BIC:               </th>  <td>5.894e+05</td> \n",
              "</tr>\n",
              "<tr>\n",
              "  <th>Df Model:</th>              <td>    17</td>      <th>                     </th>      <td> </td>     \n",
              "</tr>\n",
              "<tr>\n",
              "  <th>Covariance Type:</th>      <td>nonrobust</td>    <th>                     </th>      <td> </td>     \n",
              "</tr>\n",
              "</table>\n",
              "<table class=\"simpletable\">\n",
              "<tr>\n",
              "        <td></td>           <th>coef</th>     <th>std err</th>      <th>t</th>      <th>P>|t|</th>  <th>[0.025</th>    <th>0.975]</th>  \n",
              "</tr>\n",
              "<tr>\n",
              "  <th>const</th>         <td>  6.69e+06</td> <td> 2.93e+06</td> <td>    2.282</td> <td> 0.022</td> <td> 9.44e+05</td> <td> 1.24e+07</td>\n",
              "</tr>\n",
              "<tr>\n",
              "  <th>bedrooms</th>      <td>-3.577e+04</td> <td> 1891.843</td> <td>  -18.906</td> <td> 0.000</td> <td>-3.95e+04</td> <td>-3.21e+04</td>\n",
              "</tr>\n",
              "<tr>\n",
              "  <th>bathrooms</th>     <td> 4.114e+04</td> <td> 3253.678</td> <td>   12.645</td> <td> 0.000</td> <td> 3.48e+04</td> <td> 4.75e+04</td>\n",
              "</tr>\n",
              "<tr>\n",
              "  <th>sqft_living</th>   <td>  110.4402</td> <td>    2.270</td> <td>   48.661</td> <td> 0.000</td> <td>  105.992</td> <td>  114.889</td>\n",
              "</tr>\n",
              "<tr>\n",
              "  <th>sqft_lot</th>      <td>    0.1286</td> <td>    0.048</td> <td>    2.683</td> <td> 0.007</td> <td>    0.035</td> <td>    0.223</td>\n",
              "</tr>\n",
              "<tr>\n",
              "  <th>floors</th>        <td> 6689.5501</td> <td> 3595.859</td> <td>    1.860</td> <td> 0.063</td> <td> -358.599</td> <td> 1.37e+04</td>\n",
              "</tr>\n",
              "<tr>\n",
              "  <th>waterfront</th>    <td>  5.83e+05</td> <td> 1.74e+04</td> <td>   33.580</td> <td> 0.000</td> <td> 5.49e+05</td> <td> 6.17e+05</td>\n",
              "</tr>\n",
              "<tr>\n",
              "  <th>view</th>          <td> 5.287e+04</td> <td> 2140.055</td> <td>   24.705</td> <td> 0.000</td> <td> 4.87e+04</td> <td> 5.71e+04</td>\n",
              "</tr>\n",
              "<tr>\n",
              "  <th>condition</th>     <td> 2.639e+04</td> <td> 2351.461</td> <td>   11.221</td> <td> 0.000</td> <td> 2.18e+04</td> <td>  3.1e+04</td>\n",
              "</tr>\n",
              "<tr>\n",
              "  <th>grade</th>         <td> 9.589e+04</td> <td> 2152.789</td> <td>   44.542</td> <td> 0.000</td> <td> 9.17e+04</td> <td>    1e+05</td>\n",
              "</tr>\n",
              "<tr>\n",
              "  <th>sqft_above</th>    <td>   70.7878</td> <td>    2.253</td> <td>   31.415</td> <td> 0.000</td> <td>   66.371</td> <td>   75.205</td>\n",
              "</tr>\n",
              "<tr>\n",
              "  <th>sqft_basement</th> <td>   39.6603</td> <td>    2.647</td> <td>   14.985</td> <td> 0.000</td> <td>   34.473</td> <td>   44.848</td>\n",
              "</tr>\n",
              "<tr>\n",
              "  <th>yr_built</th>      <td>-2620.2232</td> <td>   72.659</td> <td>  -36.062</td> <td> 0.000</td> <td>-2762.640</td> <td>-2477.806</td>\n",
              "</tr>\n",
              "<tr>\n",
              "  <th>yr_renovated</th>  <td>   19.8126</td> <td>    3.656</td> <td>    5.420</td> <td> 0.000</td> <td>   12.647</td> <td>   26.978</td>\n",
              "</tr>\n",
              "<tr>\n",
              "  <th>zipcode</th>       <td> -582.4199</td> <td>   32.986</td> <td>  -17.657</td> <td> 0.000</td> <td> -647.074</td> <td> -517.765</td>\n",
              "</tr>\n",
              "<tr>\n",
              "  <th>lat</th>           <td> 6.027e+05</td> <td> 1.07e+04</td> <td>   56.149</td> <td> 0.000</td> <td> 5.82e+05</td> <td> 6.24e+05</td>\n",
              "</tr>\n",
              "<tr>\n",
              "  <th>long</th>          <td>-2.147e+05</td> <td> 1.31e+04</td> <td>  -16.349</td> <td> 0.000</td> <td> -2.4e+05</td> <td>-1.89e+05</td>\n",
              "</tr>\n",
              "<tr>\n",
              "  <th>sqft_living15</th> <td>   21.6814</td> <td>    3.448</td> <td>    6.289</td> <td> 0.000</td> <td>   14.924</td> <td>   28.439</td>\n",
              "</tr>\n",
              "<tr>\n",
              "  <th>sqft_lot15</th>    <td>   -0.3826</td> <td>    0.073</td> <td>   -5.222</td> <td> 0.000</td> <td>   -0.526</td> <td>   -0.239</td>\n",
              "</tr>\n",
              "</table>\n",
              "<table class=\"simpletable\">\n",
              "<tr>\n",
              "  <th>Omnibus:</th>       <td>18384.201</td> <th>  Durbin-Watson:     </th>  <td>   1.990</td>  \n",
              "</tr>\n",
              "<tr>\n",
              "  <th>Prob(Omnibus):</th>  <td> 0.000</td>   <th>  Jarque-Bera (JB):  </th> <td>1868224.491</td>\n",
              "</tr>\n",
              "<tr>\n",
              "  <th>Skew:</th>           <td> 3.566</td>   <th>  Prob(JB):          </th>  <td>    0.00</td>  \n",
              "</tr>\n",
              "<tr>\n",
              "  <th>Kurtosis:</th>       <td>47.985</td>   <th>  Cond. No.          </th>  <td>4.91e+17</td>  \n",
              "</tr>\n",
              "</table><br/><br/>Warnings:<br/>[1] Standard Errors assume that the covariance matrix of the errors is correctly specified.<br/>[2] The smallest eigenvalue is 9.1e-22. This might indicate that there are<br/>strong multicollinearity problems or that the design matrix is singular."
            ],
            "text/plain": [
              "<class 'statsmodels.iolib.summary.Summary'>\n",
              "\"\"\"\n",
              "                            OLS Regression Results                            \n",
              "==============================================================================\n",
              "Dep. Variable:                  price   R-squared:                       0.700\n",
              "Model:                            OLS   Adj. R-squared:                  0.700\n",
              "Method:                 Least Squares   F-statistic:                     2960.\n",
              "Date:                Thu, 23 Jul 2020   Prob (F-statistic):               0.00\n",
              "Time:                        22:27:27   Log-Likelihood:            -2.9460e+05\n",
              "No. Observations:               21613   AIC:                         5.892e+05\n",
              "Df Residuals:                   21595   BIC:                         5.894e+05\n",
              "Df Model:                          17                                         \n",
              "Covariance Type:            nonrobust                                         \n",
              "=================================================================================\n",
              "                    coef    std err          t      P>|t|      [0.025      0.975]\n",
              "---------------------------------------------------------------------------------\n",
              "const           6.69e+06   2.93e+06      2.282      0.022    9.44e+05    1.24e+07\n",
              "bedrooms      -3.577e+04   1891.843    -18.906      0.000   -3.95e+04   -3.21e+04\n",
              "bathrooms      4.114e+04   3253.678     12.645      0.000    3.48e+04    4.75e+04\n",
              "sqft_living     110.4402      2.270     48.661      0.000     105.992     114.889\n",
              "sqft_lot          0.1286      0.048      2.683      0.007       0.035       0.223\n",
              "floors         6689.5501   3595.859      1.860      0.063    -358.599    1.37e+04\n",
              "waterfront      5.83e+05   1.74e+04     33.580      0.000    5.49e+05    6.17e+05\n",
              "view           5.287e+04   2140.055     24.705      0.000    4.87e+04    5.71e+04\n",
              "condition      2.639e+04   2351.461     11.221      0.000    2.18e+04     3.1e+04\n",
              "grade          9.589e+04   2152.789     44.542      0.000    9.17e+04       1e+05\n",
              "sqft_above       70.7878      2.253     31.415      0.000      66.371      75.205\n",
              "sqft_basement    39.6603      2.647     14.985      0.000      34.473      44.848\n",
              "yr_built      -2620.2232     72.659    -36.062      0.000   -2762.640   -2477.806\n",
              "yr_renovated     19.8126      3.656      5.420      0.000      12.647      26.978\n",
              "zipcode        -582.4199     32.986    -17.657      0.000    -647.074    -517.765\n",
              "lat            6.027e+05   1.07e+04     56.149      0.000    5.82e+05    6.24e+05\n",
              "long          -2.147e+05   1.31e+04    -16.349      0.000    -2.4e+05   -1.89e+05\n",
              "sqft_living15    21.6814      3.448      6.289      0.000      14.924      28.439\n",
              "sqft_lot15       -0.3826      0.073     -5.222      0.000      -0.526      -0.239\n",
              "==============================================================================\n",
              "Omnibus:                    18384.201   Durbin-Watson:                   1.990\n",
              "Prob(Omnibus):                  0.000   Jarque-Bera (JB):          1868224.491\n",
              "Skew:                           3.566   Prob(JB):                         0.00\n",
              "Kurtosis:                      47.985   Cond. No.                     4.91e+17\n",
              "==============================================================================\n",
              "\n",
              "Warnings:\n",
              "[1] Standard Errors assume that the covariance matrix of the errors is correctly specified.\n",
              "[2] The smallest eigenvalue is 9.1e-22. This might indicate that there are\n",
              "strong multicollinearity problems or that the design matrix is singular.\n",
              "\"\"\""
            ]
          },
          "metadata": {
            "tags": []
          },
          "execution_count": 21
        }
      ]
    },
    {
      "cell_type": "markdown",
      "metadata": {
        "id": "8536NAWexXbd",
        "colab_type": "text"
      },
      "source": [
        "<a id=\"0\"></a>\n",
        "# <font color=\"red\">Simple </font>Linear Regression\n",
        "\n",
        "We will start with __Simple Linear Regression__ since it is easier to understand and visualize before moving to __Multiple Linear Regression__. Though, the conecpts overall are similar and the libraries we will be using are actually designed to handle both wihtout distinction. Simple Linear Regression is easier to plot and visualize so we will start with that.\n",
        "\n",
        "It is __Simple Linear Regression__ when we have one dependent variable (feature) and one independent variable. Here we will pick `sqft_living` as our independent variable `x`.\n",
        "\n",
        "Our goal is to estimate $\\hat{y} = x {\\theta_1} + \\theta_0$, where $\\theta_1$ is our coefficient and $\\theta_0$ is our `Y` intercept. To estimate $\\hat{y}$ we need to find a function such as $\\hat{y} = h(x) = x {\\theta_1} + \\theta_0$"
      ]
    },
    {
      "cell_type": "markdown",
      "metadata": {
        "id": "hG1i42DMxXbd",
        "colab_type": "text"
      },
      "source": [
        "__We first start by creating our `x` and `y` variables. Then plotting to gain an intuition on how the data looks like.__"
      ]
    },
    {
      "cell_type": "code",
      "metadata": {
        "id": "fjTO4r4vxXbe",
        "colab_type": "code",
        "colab": {}
      },
      "source": [
        "x = X[['sqft_living']]\n",
        "y = Y"
      ],
      "execution_count": null,
      "outputs": []
    },
    {
      "cell_type": "code",
      "metadata": {
        "scrolled": false,
        "id": "4MB_LZ4lxXbg",
        "colab_type": "code",
        "colab": {
          "base_uri": "https://localhost:8080/",
          "height": 421
        },
        "outputId": "2db6f385-fc69-4a18-9f94-3325283792ed"
      },
      "source": [
        "plt.figure(figsize=(10,6))\n",
        "plt.xlabel('House Sqft')\n",
        "plt.ylabel('House Price')\n",
        "plt.title('Price by Sqft_Living')\n",
        "plt.scatter(x,y, marker='o', color='g')"
      ],
      "execution_count": null,
      "outputs": [
        {
          "output_type": "execute_result",
          "data": {
            "text/plain": [
              "<matplotlib.collections.PathCollection at 0x7f91740f3908>"
            ]
          },
          "metadata": {
            "tags": []
          },
          "execution_count": 23
        },
        {
          "output_type": "display_data",
          "data": {
            "image/png": "[encoded data removed]",
            "text/plain": [
              "<Figure size 720x432 with 1 Axes>"
            ]
          },
          "metadata": {
            "tags": [],
            "needs_background": "light"
          }
        }
      ]
    },
    {
      "cell_type": "markdown",
      "metadata": {
        "id": "07Up2RwjxXbj",
        "colab_type": "text"
      },
      "source": [
        "## Simple Linear Regression Implementations:\n",
        "\n",
        "## 1. Using `seaborn.regplot()` and `scipy.stats`\n"
      ]
    },
    {
      "cell_type": "code",
      "metadata": {
        "scrolled": false,
        "id": "sPvSxr7txXbj",
        "colab_type": "code",
        "colab": {
          "base_uri": "https://localhost:8080/",
          "height": 422
        },
        "outputId": "c6692f13-24af-46e0-98c9-b89c8d4818f7"
      },
      "source": [
        "from scipy import stats\n",
        "sns.set(color_codes=True)\n",
        "\n",
        "slope, intercept, r_value, p_value, std_err = stats.linregress(dataset['sqft_living'],dataset['price'])\n",
        "\n",
        "f = plt.figure(figsize=(10,6))\n",
        "data = dataset[['price','sqft_living']]\n",
        "ax = sns.regplot(x='sqft_living', y='price', data=data, \n",
        "                 scatter_kws={\"color\": \"g\"}, \n",
        "                line_kws={'color': 'r', 'label':\"y={0:.1f}x+{1:.1f}\".format(slope,intercept)})\n",
        "ax.legend()"
      ],
      "execution_count": null,
      "outputs": [
        {
          "output_type": "execute_result",
          "data": {
            "text/plain": [
              "<matplotlib.legend.Legend at 0x7f91740dcd30>"
            ]
          },
          "metadata": {
            "tags": []
          },
          "execution_count": 25
        },
        {
          "output_type": "display_data",
          "data": {
            "image/png": "[encoded data removed]",
            "text/plain": [
              "<Figure size 720x432 with 1 Axes>"
            ]
          },
          "metadata": {
            "tags": []
          }
        }
      ]
    },
    {
      "cell_type": "code",
      "metadata": {
        "id": "r82G4CPBxXbr",
        "colab_type": "code",
        "colab": {
          "base_uri": "https://localhost:8080/",
          "height": 34
        },
        "outputId": "4ae3d32f-97e9-46bd-ce76-f18e84caeda0"
      },
      "source": [
        "print(std_err)"
      ],
      "execution_count": null,
      "outputs": [
        {
          "output_type": "stream",
          "text": [
            "1.9363985519989133\n"
          ],
          "name": "stdout"
        }
      ]
    }
  ]
}